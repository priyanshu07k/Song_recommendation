{
 "cells": [
  {
   "cell_type": "code",
   "execution_count": 2,
   "id": "0ffa15ae",
   "metadata": {},
   "outputs": [],
   "source": [
    "import pandas as pd\n",
    "import numpy as np\n",
    "import seaborn as sns\n",
    "import matplotlib.pyplot as plt\n",
    "import scipy.sparse as sp\n",
    "from sklearn.neighbors import NearestNeighbors"
   ]
  },
  {
   "cell_type": "code",
   "execution_count": 15,
   "id": "907f54d3",
   "metadata": {},
   "outputs": [
    {
     "data": {
      "text/html": [
       "<div>\n",
       "<style scoped>\n",
       "    .dataframe tbody tr th:only-of-type {\n",
       "        vertical-align: middle;\n",
       "    }\n",
       "\n",
       "    .dataframe tbody tr th {\n",
       "        vertical-align: top;\n",
       "    }\n",
       "\n",
       "    .dataframe thead th {\n",
       "        text-align: right;\n",
       "    }\n",
       "</style>\n",
       "<table border=\"1\" class=\"dataframe\">\n",
       "  <thead>\n",
       "    <tr style=\"text-align: right;\">\n",
       "      <th></th>\n",
       "      <th>artist</th>\n",
       "      <th>song</th>\n",
       "      <th>link</th>\n",
       "      <th>text</th>\n",
       "      <th>user_id</th>\n",
       "      <th>frequency</th>\n",
       "      <th>song_id</th>\n",
       "    </tr>\n",
       "  </thead>\n",
       "  <tbody>\n",
       "    <tr>\n",
       "      <th>40127</th>\n",
       "      <td>Glen Campbell</td>\n",
       "      <td>Tomorrow Never Comes</td>\n",
       "      <td>/g/glen+campbell/tomorrow+never+comes_20321520...</td>\n",
       "      <td>Oh you tell me that you love me  \\nYes you tel...</td>\n",
       "      <td>6REhHrdY</td>\n",
       "      <td>2.0</td>\n",
       "      <td>D3SKCEF4</td>\n",
       "    </tr>\n",
       "    <tr>\n",
       "      <th>40128</th>\n",
       "      <td>Kirsty Maccoll</td>\n",
       "      <td>Tomorrow Never Comes</td>\n",
       "      <td>/k/kirsty+maccoll/tomorrow+never+comes_2007962...</td>\n",
       "      <td>I watch you lie asleep  \\nWatch you breathing ...</td>\n",
       "      <td>EUvdRKtX</td>\n",
       "      <td>2.0</td>\n",
       "      <td>D3SKCEF4</td>\n",
       "    </tr>\n",
       "    <tr>\n",
       "      <th>40129</th>\n",
       "      <td>Glen Campbell</td>\n",
       "      <td>Truck Driving Man</td>\n",
       "      <td>/g/glen+campbell/truck+driving+man_20822122.html</td>\n",
       "      <td>Well, I stopped at a roadhouse in Texas  \\nWel...</td>\n",
       "      <td>ew8t6zBy</td>\n",
       "      <td>1.0</td>\n",
       "      <td>YQEDR9C5</td>\n",
       "    </tr>\n",
       "    <tr>\n",
       "      <th>40130</th>\n",
       "      <td>Glen Campbell</td>\n",
       "      <td>Try A Little Kindness</td>\n",
       "      <td>/g/glen+campbell/try+a+little+kindness_2032903...</td>\n",
       "      <td>If you see your brother standing by the road  ...</td>\n",
       "      <td>skR5hL31</td>\n",
       "      <td>1.0</td>\n",
       "      <td>MUB3FMWK</td>\n",
       "    </tr>\n",
       "    <tr>\n",
       "      <th>40131</th>\n",
       "      <td>Glen Campbell</td>\n",
       "      <td>Turn Around, Look At Me</td>\n",
       "      <td>/g/glen+campbell/turn+around+look+at+me_208452...</td>\n",
       "      <td>There is someone walking behind you,  \\nTurn a...</td>\n",
       "      <td>NHXnVXhT</td>\n",
       "      <td>1.0</td>\n",
       "      <td>HICZYJH5</td>\n",
       "    </tr>\n",
       "  </tbody>\n",
       "</table>\n",
       "</div>"
      ],
      "text/plain": [
       "               artist                     song  \\\n",
       "40127   Glen Campbell     Tomorrow Never Comes   \n",
       "40128  Kirsty Maccoll     Tomorrow Never Comes   \n",
       "40129   Glen Campbell        Truck Driving Man   \n",
       "40130   Glen Campbell    Try A Little Kindness   \n",
       "40131   Glen Campbell  Turn Around, Look At Me   \n",
       "\n",
       "                                                    link  \\\n",
       "40127  /g/glen+campbell/tomorrow+never+comes_20321520...   \n",
       "40128  /k/kirsty+maccoll/tomorrow+never+comes_2007962...   \n",
       "40129   /g/glen+campbell/truck+driving+man_20822122.html   \n",
       "40130  /g/glen+campbell/try+a+little+kindness_2032903...   \n",
       "40131  /g/glen+campbell/turn+around+look+at+me_208452...   \n",
       "\n",
       "                                                    text   user_id  frequency  \\\n",
       "40127  Oh you tell me that you love me  \\nYes you tel...  6REhHrdY        2.0   \n",
       "40128  I watch you lie asleep  \\nWatch you breathing ...  EUvdRKtX        2.0   \n",
       "40129  Well, I stopped at a roadhouse in Texas  \\nWel...  ew8t6zBy        1.0   \n",
       "40130  If you see your brother standing by the road  ...  skR5hL31        1.0   \n",
       "40131  There is someone walking behind you,  \\nTurn a...  NHXnVXhT        1.0   \n",
       "\n",
       "        song_id  \n",
       "40127  D3SKCEF4  \n",
       "40128  D3SKCEF4  \n",
       "40129  YQEDR9C5  \n",
       "40130  MUB3FMWK  \n",
       "40131  HICZYJH5  "
      ]
     },
     "execution_count": 15,
     "metadata": {},
     "output_type": "execute_result"
    }
   ],
   "source": [
    "df_music = pd.read_csv('Song_data.csv')\n",
    "df_music.tail()\n",
    "\n"
   ]
  },
  {
   "cell_type": "code",
   "execution_count": 4,
   "id": "755fe0bd",
   "metadata": {},
   "outputs": [],
   "source": [
    "user_ids = df_music['user_id'].astype('category').cat.codes\n",
    "song_ids = df_music['song_id'].astype('category').cat.codes"
   ]
  },
  {
   "cell_type": "code",
   "execution_count": 5,
   "id": "af81418f",
   "metadata": {},
   "outputs": [],
   "source": [
    "user_song_matrix = df_music.pivot_table(index='user_id', columns='song_id', values='frequency', fill_value=0)"
   ]
  },
  {
   "cell_type": "code",
   "execution_count": 7,
   "id": "99716c91",
   "metadata": {},
   "outputs": [
    {
     "name": "stdout",
     "output_type": "stream",
     "text": [
      "Average number of songs listened to per user: 0.0004228775751974263\n",
      "Median number of songs listened to per user: 0.0\n",
      "Min number of songs listened to: 0, Max number of songs listened to: 35\n"
     ]
    }
   ],
   "source": [
    "average_listens = np.mean(user_song_matrix.values)\n",
    "median_listens = np.median(user_song_matrix.values)\n",
    "min_listens = np.min(user_song_matrix.values)\n",
    "max_listens = np.max(user_song_matrix.values)\n",
    "\n",
    "print(f\"Average number of songs listened to per user: {average_listens}\")\n",
    "print(f\"Median number of songs listened to per user: {median_listens}\")\n",
    "print(f\"Min number of songs listened to: {min_listens}, Max number of songs listened to: {max_listens}\")\n"
   ]
  },
  {
   "cell_type": "code",
   "execution_count": 9,
   "id": "592497c5",
   "metadata": {},
   "outputs": [],
   "source": [
    "unique_songs_count = df_music['song_id'].nunique()\n",
    "unique_users_count = df_music['user_id'].nunique()\n"
   ]
  },
  {
   "cell_type": "code",
   "execution_count": 10,
   "id": "d3170c29",
   "metadata": {},
   "outputs": [
    {
     "name": "stdout",
     "output_type": "stream",
     "text": [
      "The user-song matrix has 258765268 zero values, leading to a sparsity of 99.98%.\n"
     ]
    }
   ],
   "source": [
    "total_possible_entries = unique_users_count * unique_songs_count\n",
    "non_zero_entries = df_music.shape[0]\n",
    "zero_entries = total_possible_entries - non_zero_entries\n",
    "sparsity = (zero_entries / total_possible_entries) * 100\n",
    "print(f\"The user-song matrix has {zero_entries} zero values, leading to a sparsity of {sparsity:.2f}%.\")\n"
   ]
  },
  {
   "cell_type": "code",
   "execution_count": 11,
   "id": "d3fdf4cd",
   "metadata": {},
   "outputs": [],
   "source": [
    "class MusicRecommender:\n",
    "    def __init__(self, metric='cosine', algorithm='brute', k=20, data=None, decode_song_id=None):\n",
    "        self.metric = metric\n",
    "        self.algorithm = algorithm\n",
    "        self.k = k\n",
    "        self.data = data\n",
    "        self.decode_song_id = decode_song_id\n",
    "        self.model = NearestNeighbors(metric=self.metric, algorithm=self.algorithm, n_neighbors=self.k, n_jobs=-1)\n",
    "        self.model.fit(data)\n",
    "\n",
    "    def recommend(self, target_song, n_recommendations=10):\n",
    "        # Find the index of the song in the matrix\n",
    "        song_index = self.decode_song_id[target_song]\n",
    "        distances, indices = self.model.kneighbors(self.data[song_index].reshape(1, -1), n_neighbors=n_recommendations + 1)\n",
    "        \n",
    "        # Get recommendations\n",
    "        recommendations = []\n",
    "        for i in range(1, len(distances.flatten())):\n",
    "            recommendations.append(list(self.decode_song_id.keys())[list(self.decode_song_id.values()).index(indices.flatten()[i])])\n",
    "        \n",
    "        return recommendations"
   ]
  },
  {
   "cell_type": "code",
   "execution_count": 12,
   "id": "6fc58fb4",
   "metadata": {},
   "outputs": [],
   "source": [
    "decode_song_id = {song: idx for idx, song in enumerate(list(df_music['song'].unique()))}"
   ]
  },
  {
   "cell_type": "code",
   "execution_count": 13,
   "id": "9ca2e614",
   "metadata": {},
   "outputs": [],
   "source": [
    "music_recommender = MusicRecommender(metric='cosine', algorithm='brute', k=20, data=user_song_matrix.values, decode_song_id=decode_song_id)\n"
   ]
  },
  {
   "cell_type": "code",
   "execution_count": 14,
   "id": "4a39cf13",
   "metadata": {},
   "outputs": [
    {
     "name": "stdout",
     "output_type": "stream",
     "text": [
      "Recommended songs for 'As Good As New':\n",
      "['We Came Up', 'Ball And Chain For Sale', 'Pretty Paper', \"Miss Judy's Farm\", \"You'll Never See Me Again\", 'Heartsong', 'I Need You For Someone', 'Dreamtaker', 'Like It Or Not', 'Papa He Said']\n"
     ]
    }
   ],
   "source": [
    "target_song_title = 'As Good As New' \n",
    "recommended_songs = music_recommender.recommend(target_song=target_song_title, n_recommendations=10)\n",
    "\n",
    "print(f\"Recommended songs for '{target_song_title}':\\n{recommended_songs}\")"
   ]
  },
  {
   "cell_type": "code",
   "execution_count": 16,
   "id": "fc9dbb60",
   "metadata": {},
   "outputs": [
    {
     "name": "stdout",
     "output_type": "stream",
     "text": [
      "Recommended songs for 'Bang':\n",
      "['Cygnet Committee', 'Raindrops Keep Falling On My Head', 'Taking It All Too Hard', 'The Guaranteed Eternal Sanctuary Man', \"It's Yourself\", 'Let Us Now Make Love', 'Like It Or Not', 'Man On The Corner', 'Papa He Said', 'In The Beginning']\n"
     ]
    }
   ],
   "source": [
    "\n",
    "target_song_title = 'Bang' \n",
    "recommended_songs = music_recommender.recommend(target_song=target_song_title, n_recommendations=10)\n",
    "\n",
    "print(f\"Recommended songs for '{target_song_title}':\\n{recommended_songs}\")"
   ]
  },
  {
   "cell_type": "code",
   "execution_count": null,
   "id": "ca392c7d",
   "metadata": {},
   "outputs": [],
   "source": []
  },
  {
   "cell_type": "code",
   "execution_count": null,
   "id": "92829c23",
   "metadata": {},
   "outputs": [],
   "source": []
  },
  {
   "cell_type": "code",
   "execution_count": null,
   "id": "6e5537ca",
   "metadata": {},
   "outputs": [],
   "source": []
  },
  {
   "cell_type": "code",
   "execution_count": null,
   "id": "e7d04fd9",
   "metadata": {},
   "outputs": [],
   "source": []
  }
 ],
 "metadata": {
  "kernelspec": {
   "display_name": "Python 3 (ipykernel)",
   "language": "python",
   "name": "python3"
  },
  "language_info": {
   "codemirror_mode": {
    "name": "ipython",
    "version": 3
   },
   "file_extension": ".py",
   "mimetype": "text/x-python",
   "name": "python",
   "nbconvert_exporter": "python",
   "pygments_lexer": "ipython3",
   "version": "3.8.10"
  }
 },
 "nbformat": 4,
 "nbformat_minor": 5
}
