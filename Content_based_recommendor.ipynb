{
 "cells": [
  {
   "cell_type": "code",
   "execution_count": 1,
   "metadata": {
    "id": "5RhfVBoSfHzK"
   },
   "outputs": [],
   "source": [
    "\n",
    "import numpy as np\n",
    "import pandas as pd\n",
    "from typing import List, Dict\n",
    "from sklearn.feature_extraction.text import TfidfVectorizer\n",
    "from sklearn.metrics.pairwise import linear_kernel\n",
    "\n"
   ]
  },
  {
   "cell_type": "code",
   "execution_count": 2,
   "metadata": {
    "colab": {
     "base_uri": "https://localhost:8080/",
     "height": 495
    },
    "id": "J40ZN9E5g0-5",
    "outputId": "44ad0d6f-5394-48f5-8f6c-a76d90149676"
   },
   "outputs": [
    {
     "data": {
      "text/html": [
       "<div>\n",
       "<style scoped>\n",
       "    .dataframe tbody tr th:only-of-type {\n",
       "        vertical-align: middle;\n",
       "    }\n",
       "\n",
       "    .dataframe tbody tr th {\n",
       "        vertical-align: top;\n",
       "    }\n",
       "\n",
       "    .dataframe thead th {\n",
       "        text-align: right;\n",
       "    }\n",
       "</style>\n",
       "<table border=\"1\" class=\"dataframe\">\n",
       "  <thead>\n",
       "    <tr style=\"text-align: right;\">\n",
       "      <th></th>\n",
       "      <th>artist</th>\n",
       "      <th>song</th>\n",
       "      <th>link</th>\n",
       "      <th>text</th>\n",
       "      <th>user_id</th>\n",
       "      <th>frequency</th>\n",
       "      <th>song_id</th>\n",
       "    </tr>\n",
       "  </thead>\n",
       "  <tbody>\n",
       "    <tr>\n",
       "      <th>0</th>\n",
       "      <td>ABBA</td>\n",
       "      <td>Ahe's My Kind Of Girl</td>\n",
       "      <td>/a/abba/ahes+my+kind+of+girl_20598417.html</td>\n",
       "      <td>Look at her face, it's a wonderful face  \\nAnd...</td>\n",
       "      <td>T6ylNteA</td>\n",
       "      <td>1.0</td>\n",
       "      <td>7M1OJTM2</td>\n",
       "    </tr>\n",
       "    <tr>\n",
       "      <th>1</th>\n",
       "      <td>ABBA</td>\n",
       "      <td>Andante, Andante</td>\n",
       "      <td>/a/abba/andante+andante_20002708.html</td>\n",
       "      <td>Take it easy with me, please  \\nTouch me gentl...</td>\n",
       "      <td>0h29M6kv</td>\n",
       "      <td>1.0</td>\n",
       "      <td>DT69RI32</td>\n",
       "    </tr>\n",
       "    <tr>\n",
       "      <th>2</th>\n",
       "      <td>ABBA</td>\n",
       "      <td>As Good As New</td>\n",
       "      <td>/a/abba/as+good+as+new_20003033.html</td>\n",
       "      <td>I'll never know why I had to go  \\nWhy I had t...</td>\n",
       "      <td>Kk3gE2bG</td>\n",
       "      <td>1.0</td>\n",
       "      <td>5KELUYVE</td>\n",
       "    </tr>\n",
       "    <tr>\n",
       "      <th>3</th>\n",
       "      <td>ABBA</td>\n",
       "      <td>Bang</td>\n",
       "      <td>/a/abba/bang_20598415.html</td>\n",
       "      <td>Making somebody happy is a question of give an...</td>\n",
       "      <td>rxtykVT6</td>\n",
       "      <td>4.0</td>\n",
       "      <td>IMMIWPK1</td>\n",
       "    </tr>\n",
       "    <tr>\n",
       "      <th>4</th>\n",
       "      <td>Blur</td>\n",
       "      <td>Bang</td>\n",
       "      <td>/b/blur/bang_20021016.html</td>\n",
       "      <td>Sitting in an S.D.T.  \\nWaiting for an undergr...</td>\n",
       "      <td>hwErMKpU</td>\n",
       "      <td>4.0</td>\n",
       "      <td>IMMIWPK1</td>\n",
       "    </tr>\n",
       "  </tbody>\n",
       "</table>\n",
       "</div>"
      ],
      "text/plain": [
       "  artist                   song                                        link  \\\n",
       "0   ABBA  Ahe's My Kind Of Girl  /a/abba/ahes+my+kind+of+girl_20598417.html   \n",
       "1   ABBA       Andante, Andante       /a/abba/andante+andante_20002708.html   \n",
       "2   ABBA         As Good As New        /a/abba/as+good+as+new_20003033.html   \n",
       "3   ABBA                   Bang                  /a/abba/bang_20598415.html   \n",
       "4   Blur                   Bang                  /b/blur/bang_20021016.html   \n",
       "\n",
       "                                                text   user_id  frequency  \\\n",
       "0  Look at her face, it's a wonderful face  \\nAnd...  T6ylNteA        1.0   \n",
       "1  Take it easy with me, please  \\nTouch me gentl...  0h29M6kv        1.0   \n",
       "2  I'll never know why I had to go  \\nWhy I had t...  Kk3gE2bG        1.0   \n",
       "3  Making somebody happy is a question of give an...  rxtykVT6        4.0   \n",
       "4  Sitting in an S.D.T.  \\nWaiting for an undergr...  hwErMKpU        4.0   \n",
       "\n",
       "    song_id  \n",
       "0  7M1OJTM2  \n",
       "1  DT69RI32  \n",
       "2  5KELUYVE  \n",
       "3  IMMIWPK1  \n",
       "4  IMMIWPK1  "
      ]
     },
     "execution_count": 2,
     "metadata": {},
     "output_type": "execute_result"
    }
   ],
   "source": [
    "songs = pd.read_csv('Song_data.csv')\n",
    "songs.head()\n",
    "\n"
   ]
  },
  {
   "cell_type": "code",
   "execution_count": 3,
   "metadata": {
    "id": "8_Hbnhdzg26-"
   },
   "outputs": [],
   "source": [
    "class SongRecommender:\n",
    "    def __init__(self, song_data: pd.DataFrame):\n",
    "        \"\"\"\n",
    "        Initializes the recommender system with song data.\n",
    "\n",
    "        :param song_data: DataFrame containing song information.\n",
    "        \"\"\"\n",
    "        self.song_data = song_data\n",
    "        self.vectorizer = TfidfVectorizer(stop_words='english')\n",
    "        self.tfidf_matrix = self._fit_tfidf()\n",
    "\n",
    "    def _fit_tfidf(self) -> np.ndarray:\n",
    "        \"\"\"\n",
    "        Fits the TF-IDF model on the song descriptions.\n",
    "\n",
    "        :return: The TF-IDF matrix.\n",
    "        \"\"\"\n",
    "        return self.vectorizer.fit_transform(self.song_data['text'])\n",
    "\n",
    "    def get_similar_songs(self, song_title: str, top_n: int = 5) -> List[Dict[str, str]]:\n",
    "        \"\"\"\n",
    "        Recommends a list of similar songs based on the provided song title.\n",
    "\n",
    "        :param song_title: Title of the song for which recommendations are needed.\n",
    "        :param top_n: Number of recommendations to return.\n",
    "        :return: List of recommended songs with their similarity scores.\n",
    "        \"\"\"\n",
    "        try:\n",
    "            idx = self.song_data.index[self.song_data['song'] == song_title][0]\n",
    "            cosine_similarities = linear_kernel(self.tfidf_matrix[idx:idx+1], self.tfidf_matrix).flatten()\n",
    "            related_songs_indices = cosine_similarities.argsort()[-top_n-1:-1][::-1]\n",
    "            return [\n",
    "                {\"song\": self.song_data['song'].iloc[i], \"similarity_score\": cosine_similarities[i]}\n",
    "                for i in related_songs_indices\n",
    "            ]\n",
    "        except IndexError:\n",
    "            print(\"Song not found in the dataset.\")\n",
    "            return []\n"
   ]
  },
  {
   "cell_type": "code",
   "execution_count": 4,
   "metadata": {
    "id": "rOXzLzlGib8g"
   },
   "outputs": [],
   "source": [
    "recommender = SongRecommender(songs)\n",
    "recommendation = {\n",
    "    \"song\": songs['song'].iloc[0],  # Selects the first song in the dataset\n",
    "    \"number_songs\": 4  # Number of recommendations to retrieve\n",
    "}\n",
    "recommendations = recommender.get_similar_songs(recommendation['song'], recommendation['number_songs'])\n",
    "\n"
   ]
  },
  {
   "cell_type": "code",
   "execution_count": null,
   "metadata": {
    "colab": {
     "base_uri": "https://localhost:8080/"
    },
    "id": "Ia1KeB1op7Ib",
    "outputId": "75a0f301-e6b8-4862-8bcb-3dd10cef0f4d"
   },
   "outputs": [
    {
     "name": "stdout",
     "output_type": "stream",
     "text": [
      "The 4 recommended songs for Ahe's My Kind Of Girl are:\n",
      "Number 1:\n",
      "What Kind Of Girl with 0.453 similarity score\n",
      "--------------------\n",
      "Number 2:\n",
      "The Kind Of Girl I Could Love with 0.412 similarity score\n",
      "--------------------\n",
      "Number 3:\n",
      "Girl (Why You Wanna Make Me Blue) with 0.357 similarity score\n",
      "--------------------\n",
      "Number 4:\n",
      "Girl with 0.334 similarity score\n",
      "--------------------\n"
     ]
    }
   ],
   "source": [
    "print(f\"The {recommendation['number_songs']} recommended songs for {recommendation['song']} are:\")\n",
    "for i, rec in enumerate(recommendations, 1):\n",
    "    print(f\"Number {i}:\\n{rec['song']} with {rec['similarity_score']:.3f} similarity score\\n--------------------\")"
   ]
  },
  {
   "cell_type": "code",
   "execution_count": null,
   "metadata": {
    "colab": {
     "base_uri": "https://localhost:8080/"
    },
    "id": "IiKtZq9k2CRb",
    "outputId": "d60f7006-0520-4593-ad7f-45e39e8d1ced"
   },
   "outputs": [
    {
     "name": "stdout",
     "output_type": "stream",
     "text": [
      "The 10 recommended songs for Quit Playing Games With My Heart are:\n",
      "Number 1:\n",
      "She Quit Me with 0.425 similarity score\n",
      "--------------------\n",
      "Number 2:\n",
      "Love Games with 0.410 similarity score\n",
      "--------------------\n",
      "Number 3:\n",
      "Head Games with 0.390 similarity score\n",
      "--------------------\n",
      "Number 4:\n",
      "After Your Love Is Gone with 0.321 similarity score\n",
      "--------------------\n",
      "Number 5:\n",
      "Baby with 0.316 similarity score\n",
      "--------------------\n",
      "Number 6:\n",
      "Should I, Would I, Could I with 0.290 similarity score\n",
      "--------------------\n",
      "Number 7:\n",
      "Don't Break My Heart with 0.288 similarity score\n",
      "--------------------\n",
      "Number 8:\n",
      "Baby Hold On with 0.280 similarity score\n",
      "--------------------\n",
      "Number 9:\n",
      "That's It I Quit I'm Movin' On with 0.279 similarity score\n",
      "--------------------\n",
      "Number 10:\n",
      "For The Heart with 0.279 similarity score\n",
      "--------------------\n"
     ]
    }
   ],
   "source": [
    "recommendation2 = {\n",
    "    \"song\": songs['song'].iloc[990],  # Selects another song in the dataset (for example, the third one)\n",
    "    \"number_songs\": 10  # Number of recommendations to retrieve\n",
    "}\n",
    "recommendations2 = recommender.get_similar_songs(recommendation2['song'], recommendation2['number_songs'])\n",
    "\n",
    "# Print out the recommendations for the second song\n",
    "print(f\"The {recommendation2['number_songs']} recommended songs for {recommendation2['song']} are:\")\n",
    "for i, rec in enumerate(recommendations2, 1):\n",
    "    print(f\"Number {i}:\\n{rec['song']} with {rec['similarity_score']:.3f} similarity score\\n--------------------\")"
   ]
  }
 ],
 "metadata": {
  "colab": {
   "provenance": []
  },
  "kernelspec": {
   "display_name": "Python 3 (ipykernel)",
   "language": "python",
   "name": "python3"
  },
  "language_info": {
   "codemirror_mode": {
    "name": "ipython",
    "version": 3
   },
   "file_extension": ".py",
   "mimetype": "text/x-python",
   "name": "python",
   "nbconvert_exporter": "python",
   "pygments_lexer": "ipython3",
   "version": "3.8.10"
  }
 },
 "nbformat": 4,
 "nbformat_minor": 1
}
